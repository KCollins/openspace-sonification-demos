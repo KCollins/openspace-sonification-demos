{
 "cells": [
  {
   "cell_type": "markdown",
   "id": "a4c0b248-d13f-48b9-9ac9-c5553d92a7e7",
   "metadata": {},
   "source": [
    "# Sonification of Magnetometer Data\n",
    "The purpose of this notebook is to generate audio displays of data from ground magnetometers and THEMIS satellites. "
   ]
  },
  {
   "cell_type": "markdown",
   "id": "d7e20e0d-931c-4a93-92ed-bf39c679ae42",
   "metadata": {},
   "source": [
    "### Import packages:"
   ]
  },
  {
   "cell_type": "code",
   "execution_count": null,
   "id": "f5fe8a8b-da15-4f2c-89ae-d79cb9ce0780",
   "metadata": {},
   "outputs": [],
   "source": [
    "# Importing packages\n",
    "import pandas as pd\n",
    "# smag = __import__('supermag-api')          # SuperMAG python API\n",
    "# logon = 'kd8oxt'                              # SuperMAG ID\n",
    "\n",
    "import plotly.express as px                # for mapping, mainly\n",
    "import plotly.graph_objects as go          # for mapping, mainly\n",
    "\n",
    "import matplotlib.pyplot as plt\n",
    "import numpy as np\n",
    "\n",
    "# import os\n",
    "# # os.environ[\"CDF_LIB\"] = library_directory\n",
    "# # os.environ[\"CDF_LIB\"] = \"~/CDF/lib\"          # default \"~/CDF/lib\"\n",
    "# from spacepy import pycdf                  # for reading CDF files\n",
    "\n",
    "# For pulling data from CDAweb:\n",
    "from ai import cdas\n",
    "import datetime\n",
    "from matplotlib import pyplot as plt\n",
    "\n",
    "# for progress viz:\n",
    "from tqdm .auto import tqdm\n",
    "# from tqdm import tqdm_notebook as tqdm\n",
    "# from tqdm.notebook import trange, tqdm\n",
    "from IPython.display import clear_output     # Used as a workaround to make tqdm not do silly things\n",
    "\n",
    "import pickle\n",
    "\n",
    "from collections import Counter   # for listing unique values\n",
    "\n",
    "from scipy import signal\n",
    "\n",
    "import os\n",
    "\n",
    "# Import functions:\n",
    "\n",
    "from magplots.magFunctions import *\n",
    "# from MagnetometerData2 import *\n",
    "import matplotlib.dates as mdates\n",
    "\n",
    "import IPython # for playing sounds in the notebook\n",
    "\n",
    "import urllib.request # for pulling audifications and plots directly from CDAWeb\n",
    "import wget # for downloading audifications\n",
    "\n",
    "from magplots.magFunctions import * "
   ]
  },
  {
   "cell_type": "markdown",
   "id": "d3ebaad7-e704-4011-80d0-71533cf55079",
   "metadata": {},
   "source": [
    "Install the `magSonify` package."
   ]
  },
  {
   "cell_type": "code",
   "execution_count": null,
   "id": "11ab72d5-bddb-4c12-abe7-6266a2e01aad",
   "metadata": {},
   "outputs": [],
   "source": [
    "# pip install git+https://github.com/marek-cottingham/magSonify/"
   ]
  },
  {
   "cell_type": "markdown",
   "id": "c71ca2eb-fc23-4a2b-bf59-2a6213a38ea3",
   "metadata": {},
   "source": [
    "## Set parameters\n",
    "First, we should establish the datetime range, stations, and cadence of the data that we want to examine with this approach. "
   ]
  },
  {
   "cell_type": "code",
   "execution_count": null,
   "id": "402b0d3f-7d52-4496-8775-d0e9826a75eb",
   "metadata": {},
   "outputs": [],
   "source": [
    "# start = datetime.datetime(2016, 1, 25, 0, 0, 0) \n",
    "# end = datetime.datetime(2016, 1, 25, 23, 0, 0)"
   ]
  },
  {
   "cell_type": "markdown",
   "id": "65d29032-69ea-4da6-a482-b589c9be0959",
   "metadata": {},
   "source": [
    "Ground stations:"
   ]
  },
  {
   "cell_type": "markdown",
   "id": "8b519fdc-5bbd-4921-ab1d-b09f33857802",
   "metadata": {},
   "source": [
    "## Pull data of interest\n",
    "Next, we pull the data of interest into pandas dataframes. Let's use SuperMAG's API."
   ]
  },
  {
   "cell_type": "code",
   "execution_count": null,
   "id": "1a884bad-4b93-4103-a646-6db50aea9b29",
   "metadata": {},
   "outputs": [],
   "source": [
    "# smag = __import__('supermag-api')          # SuperMAG python API\n",
    "# logon = 'kd8oxt'                              # SuperMAG ID\n",
    "\n",
    "\n",
    "# # Example code for checking coverage from SuperMAG:\n",
    "# start=[2019,11,15,10,40,00] # alt: start='2019-11-15T10:40'\n",
    "# (status,stations) = smag.SuperMAGGetInventory(logon,start,3600)\n",
    "# # print(stations)   \n",
    "\n",
    "# # stations # uncomment to list stations"
   ]
  },
  {
   "cell_type": "markdown",
   "id": "31cc186f-3318-4e98-a7ae-6f0151c7e803",
   "metadata": {},
   "source": [
    "## Sonify data\n",
    "There are two pieces of information we need to sort out in this step: what each sound source sounds like, and where it is."
   ]
  },
  {
   "cell_type": "markdown",
   "id": "396a090d-4c1d-4027-b597-bbba2ea2ab20",
   "metadata": {},
   "source": [
    "### Direct audification\n",
    "CDAWeb already incorporates a system for data audification. We start with a formatted URL, such as https://cdaweb.gsfc.nasa.gov/WS/cdasr/1/dataviews/sp_phys/datasets/THG_L2_MAG_PG0/data/20230419T000000Z,20230426T000000Z/thg_magh_pg0?format=audio, then read the XML it returns to find the file IDs.\n",
    "\n",
    "We note from https://cdaweb.gsfc.nasa.gov/misc/NotesT.html#THG_L2_MAG_PG0 that some of the magnetometers log magnetic field, while others log *variation* in magnetic field.\n",
    "\n",
    "For PG0:\n",
    "Variation in Magnetic field B in HDZ vector components [thg_mag_pg0]\n",
    "  - H - Local magnetic North component of B [thg_magh_pg0]\n",
    "  - E - Local magnetic East component of B [thg_magd_pg0]\n",
    "  - Z - Local vertical down component of B [thg_magz_pg0]"
   ]
  },
  {
   "cell_type": "code",
   "execution_count": null,
   "id": "acfae450-4ad0-4b01-bc87-438f1e8efb49",
   "metadata": {},
   "outputs": [],
   "source": [
    "magname = \"pg0\"\n",
    "parameter = 'Bx'\n",
    "\n",
    "d = {'Bx':'h', 'By':'d','Bz':'z'}\n",
    "\n",
    "url = \"https://cdaweb.gsfc.nasa.gov/WS/cdasr/1/dataviews/sp_phys/datasets/\"\\\n",
    "\"THG_L2_MAG_\" + magname.upper() +\"/data/20230419T000000Z,20230426T000000Z/thg_mag\" + d[parameter] +\"_\" + magname + \\\n",
    "\"?format=audio\"\n",
    "\n",
    "with urllib.request.urlopen(url) as url:\n",
    "    s = url.read()\n",
    "    df = pd.read_xml(s)\n",
    "\n",
    "df"
   ]
  },
  {
   "cell_type": "markdown",
   "id": "15072393-da72-454c-83dc-2c7866144e81",
   "metadata": {},
   "source": [
    "Let's hear that audio!"
   ]
  },
  {
   "cell_type": "code",
   "execution_count": null,
   "id": "36f1dcdd-6600-4133-bfa5-865fae227639",
   "metadata": {},
   "outputs": [],
   "source": [
    "wget.download(df.Name[0], out = 'output/') # download audio\n",
    "IPython.display.Audio(df.Name[0])          # play audio in Jupyter notebook"
   ]
  },
  {
   "cell_type": "markdown",
   "id": "80c9c9c0-9381-46b7-a968-c765f6db7efa",
   "metadata": {},
   "source": [
    "With a small tweak to the URL, we can also get a plot of the data that we're listening to."
   ]
  },
  {
   "cell_type": "code",
   "execution_count": null,
   "id": "a221d4f4-5a10-4d7a-9bea-44c0ac8bd808",
   "metadata": {},
   "outputs": [],
   "source": [
    "magname = \"pg0\"\n",
    "parameter = 'Bx'\n",
    "\n",
    "url = \"https://cdaweb.gsfc.nasa.gov/WS/cdasr/1/dataviews/sp_phys/datasets/\"\\\n",
    "\"THG_L2_MAG_\" + magname.upper() +\"/data/20230419T000000Z,20230426T000000Z/thg_mag\" + d[parameter] +\"_\" + magname + \\\n",
    "\"?format=gif\"\n",
    "\n",
    "\n",
    "with urllib.request.urlopen(url) as url:\n",
    "    s = url.read()\n",
    "    df = pd.read_xml(s)\n",
    "\n",
    "df.Name[0]\n",
    "\n",
    "from IPython.display import Image\n",
    "Image(url=df.Name[0]) "
   ]
  },
  {
   "cell_type": "markdown",
   "id": "e39aefcb-6294-4584-85c2-c0f1a689af30",
   "metadata": {},
   "source": [
    "Let's pull audifications for all the stations we're interested in."
   ]
  },
  {
   "cell_type": "code",
   "execution_count": null,
   "id": "af42b82c-7224-4af4-a41e-13fff4d0fa2c",
   "metadata": {},
   "outputs": [],
   "source": [
    "maglist_a = ['upn', 'umq', 'gdh', 'atu', 'skt', 'ghb']\n",
    "maglist_b = ['pg0', 'pg1', 'pg2', 'pg3', 'pg4', 'pg5']\n",
    "maglist = maglist_a+maglist_b\n",
    "\n",
    "# datestring = \"20230419T000000Z,20230426T000000Z\" # TODO: PULL THIS FROM DATETIMES\n",
    "datestring = \"20230401T000000Z,20230531T000000Z\" # TODO: PULL THIS FROM DATETIMES\n",
    "\n",
    "\n",
    "for magname in maglist:\n",
    "    for parameter in [\"Bx\", \"By\", \"Bz\"]:\n",
    "        try:\n",
    "            filename = magname + '_' + parameter + '_' + datestring + '.wav'\n",
    "            url = \"https://cdaweb.gsfc.nasa.gov/WS/cdasr/1/dataviews/sp_phys/datasets/\"\\\n",
    "            \"THG_L2_MAG_\" + magname.upper() +\"/data/\" + datestring+ \"/thg_mag\" + d[parameter] +\"_\" + magname + \\\n",
    "            \"?format=audio\"\n",
    "            with urllib.request.urlopen(url) as url:\n",
    "                s = url.read()\n",
    "                df = pd.read_xml(s)\n",
    "            wget.download(df.Name[0], out = 'output/'+filename)\n",
    "            print('Saving ' + magname + ', ' + parameter)\n",
    "            # IPython.display.Audio(filename)\n",
    "        except Exception as e:\n",
    "            print(e)\n",
    "            continue"
   ]
  },
  {
   "cell_type": "code",
   "execution_count": null,
   "id": "a0466ba9-6d22-4f51-846f-90aad22fdd5c",
   "metadata": {},
   "outputs": [],
   "source": [
    "# ls_sigs = magdf(is_detrended = True, is_pivoted = True, is_uniform = True).Bx.transpose().to_numpy()\n",
    "# ls_sigs[np.isnan(ls_sigs)] = 0"
   ]
  },
  {
   "cell_type": "code",
   "execution_count": null,
   "id": "d2453f2b-83d8-4978-b360-ea36989d1ab6",
   "metadata": {},
   "outputs": [],
   "source": [
    "# ls_sigs.shape"
   ]
  },
  {
   "cell_type": "code",
   "execution_count": null,
   "id": "21716f35-81d0-4320-a081-f3b974617481",
   "metadata": {},
   "outputs": [],
   "source": [
    "# ls_sigs"
   ]
  },
  {
   "cell_type": "markdown",
   "id": "61da8aae-a260-4b3b-a7c0-ff2208d0b0d7",
   "metadata": {},
   "source": [
    "### Wavelet sonification\n",
    "We can also try sonifying the data using best practices for Pc5 waves. We'll be using the systems established in this paper: https://doi.org/10.3389/fspas.2022.877172 "
   ]
  },
  {
   "cell_type": "code",
   "execution_count": null,
   "id": "98a5152a-521b-4042-a290-c4f3f47bef61",
   "metadata": {},
   "outputs": [],
   "source": [
    "# # import context\n",
    "# # context.get()\n",
    "\n",
    "# from datetime import datetime\n",
    "# from magSonify.MagnetometerData import THEMISdata\n",
    "# from magSonify.Utilities import ensureFolder\n",
    "# import numpy as np\n",
    "\n",
    "# outputDir = \"Audio_Processing_Example\"\n",
    "\n",
    "# ensureFolder(outputDir)\n",
    "\n",
    "# mag = THEMISdata()\n",
    "\n",
    "# event2007_09_04 = (datetime(2007,9,4), datetime(2007,9,5))\n",
    "# event2008_12_07 = (datetime(2008,12,7), datetime(2008,12,10))\n",
    "# event2011_09_02 = (datetime(2011, 9, 2), datetime(2011, 9, 6))\n",
    "\n",
    "# # Import the satellite data, specifying which themis satellite to use\n",
    "# mag.importCDAS(\n",
    "#     *event2008_12_07,\n",
    "#     satellite='D'\n",
    "# )\n",
    "\n",
    "# # Interpolate the data to a consistent, know spacing (also cleans the data to remove duplicates)\n",
    "# mag.interpolate(spacingInSeconds=3)\n",
    "\n",
    "# mag.magneticField.constrainAbsoluteValue(400)\n",
    "\n",
    "# # Compute the mean field, this is both to allow the mean field to be subtracted and for use later\n",
    "# # in .convertToMeanFieldCoordinates(). Note that the exact attribute name: .meanField must be \n",
    "# # preserved in order for .convertToMeanFieldCoordinates() to work.\n",
    "# mag.meanField = mag.magneticField.runningAverage(timeWindow=np.timedelta64(35,\"m\"))\n",
    "# mag.magneticField = mag.magneticField - mag.meanField\n",
    "\n",
    "# mag.fillLessThanRadius(4)\n",
    "# mag.removeMagnetosheath()\n",
    "# mag.convertToMeanFieldCoordinates()\n",
    "\n",
    "# mag.magneticFieldMeanFieldCoordinates.fillNaN()\n",
    "\n",
    "# # Extract each of the field components as a 1D data set, perform the time stretch and output as\n",
    "# # audio\n",
    "# com = mag.magneticFieldMeanFieldCoordinates.extractKey(0)\n",
    "# com.phaseVocoderStretch(16)\n",
    "# com.normalise()\n",
    "# com.genMonoAudio(f\"{outputDir}/Example of com x16 with phase vocoder.wav\")\n",
    "\n",
    "# pol = mag.magneticFieldMeanFieldCoordinates.extractKey(1)\n",
    "# pol.phaseVocoderStretch(16)\n",
    "# pol.normalise()\n",
    "# pol.genMonoAudio(f\"{outputDir}/Example of pol x16 with phase vocoder.wav\")\n",
    "\n",
    "# tor = mag.magneticFieldMeanFieldCoordinates.extractKey(2)\n",
    "# tor.phaseVocoderStretch(16)\n",
    "# tor.normalise()\n",
    "# tor.genMonoAudio(f\"{outputDir}/Example of tor x16 with phase vocoder.wav\")\n",
    "\n",
    "# # Disable the wavelet stretch output if it's taking too long\n",
    "# # exit()\n",
    "\n",
    "# com = mag.magneticFieldMeanFieldCoordinates.extractKey(0)\n",
    "# com.waveletStretch(16,0.5,16)\n",
    "# com.normalise()\n",
    "# com.genMonoAudio(f\"{outputDir}/Example of com x16 with wavelets.wav\",sampleRate=44100//2)\n",
    "\n",
    "# pol = mag.magneticFieldMeanFieldCoordinates.extractKey(1)\n",
    "# pol.waveletStretch(16,0.5,16)\n",
    "# pol.normalise()\n",
    "# pol.genMonoAudio(f\"{outputDir}/Example of pol x16 with wavelets.wav\",sampleRate=44100//2)\n",
    "\n",
    "# tor = mag.magneticFieldMeanFieldCoordinates.extractKey(2)\n",
    "# tor.waveletStretch(16,0.5,16)\n",
    "# tor.normalise()\n",
    "# tor.genMonoAudio(f\"{outputDir}/Example of tor x16 with wavelets.wav\",sampleRate=44100//2)"
   ]
  },
  {
   "cell_type": "code",
   "execution_count": null,
   "id": "0e50b1e6-d138-456f-b23a-2706121bdd8f",
   "metadata": {},
   "outputs": [],
   "source": [
    "# # # import IPython\n",
    "# IPython.display.Audio(outputDir + \"/\" +\"Example of pol x16 with phase vocoder.wav\")"
   ]
  },
  {
   "cell_type": "markdown",
   "id": "029a99b2-85ff-4b8a-8baa-fde4b2c1d1e0",
   "metadata": {},
   "source": [
    "## Alternative Approach "
   ]
  },
  {
   "cell_type": "markdown",
   "id": "de0ab411-9dec-4838-b9e6-337211926d97",
   "metadata": {},
   "source": [
    "Now we create a new class, based on the THEMIS class already included in magSonify, to pull data for ground magnetometers. (Thanks go to Aidan Montare for her help with this part!)"
   ]
  },
  {
   "cell_type": "code",
   "execution_count": null,
   "id": "c59c916e-9184-4426-a200-29ea2355ff33",
   "metadata": {},
   "outputs": [],
   "source": [
    "# from magSonify import DataSet_3D\n",
    "# from magSonify.TimeSeries import generateTimeSeries\n",
    "# # pd.timeSeries = pd.Series   \n",
    "\n",
    "# class GroundData(MagnetometerData):\n",
    "#     def importCDAS(self, startDatetime, endDatetime, magname='pg1') -> None:\n",
    "#         self._importAsync(\n",
    "#             (\n",
    "#                 self._importCdasMagneticField,\n",
    "#             ),\n",
    "#             startDatetime,\n",
    "#             endDatetime,\n",
    "#             magname)\n",
    "    \n",
    "#     def _importCdasMagneticField(self, startDatetime, endDatetime, magname) -> None:\n",
    "#         cdasArgs = (\n",
    "#             'sp_phys',\n",
    "#             f'THG_L2_MAG_{magname.upper()}',\n",
    "#             startDatetime,\n",
    "#             endDatetime,\n",
    "#             [f'thg_mag_{magname.lower()}']\n",
    "#         )\n",
    "#         timeSeriesKey = \"UT\"\n",
    "#         targetKeys = {\n",
    "#             0: 'MAGNETIC_NORTH_-_H',\n",
    "#             1: 'MAGNETIC_EAST_-_E',\n",
    "#             2: 'VERTICAL_DOWN_-_Z',\n",
    "#         }\n",
    "#         self.magneticField = self._importCdasItemWithExceptions(\n",
    "#             cdasArgs,timeSeriesKey,targetKeys,DataSet_3D\n",
    "#         )\n",
    "\n",
    "#     def interpolate(self,spacingInSeconds=60) -> None:\n",
    "#         \"\"\"Interpolates data sets :attr:`magneticField`, :attr:`position` and \n",
    "#         :attr:`peemIdentifyMagnetosheath` to the specified spacing, if they are not None.\n",
    "\n",
    "#         A default spacing of 3s is chosen for THEMIS data. This is slightly smaller than the mean\n",
    "#         sample spacing in the raw magnetometer data of ~3.17 s. Using a consistent value aids in \n",
    "#         establishing the correspondence between frequencies in sonified audio and the raw data.\n",
    "        \n",
    "#         For ground mags, I've changed this to 60s, since that's the slower pace used by the \n",
    "#         systems in the Arctic.\n",
    "#         \"\"\"\n",
    "#         refTimeSeries = generateTimeSeries(\n",
    "#             self.magneticField.timeSeries.getStart(),\n",
    "#             self.magneticField.timeSeries.getEnd(),\n",
    "#             spacing=np.timedelta64(spacingInSeconds,'s')\n",
    "#         )\n",
    "#         self._interpolateReference(refTimeSeries)\n",
    "\n",
    "#     def convertToMeanFieldCoordinates(self) -> None:\n",
    "#         \"\"\" Converts the magnetic field data in :attr:`magneticField` to mean field coordinates,\n",
    "#         saving the output in :attr:`magneticFieldMeanFieldCoordinates`.\n",
    "        \n",
    "#         .. warning::\n",
    "\n",
    "#             :attr:`meanField` must be specified and contain a 3D dataset with the mean \n",
    "#             magnetic field.\n",
    "\n",
    "#             :attr:`magneticField` must be specified\n",
    "#         \"\"\"\n",
    "#         assert(self.position.timeSeries == self.magneticField.timeSeries)\n",
    "#         assert(self.magneticField.timeSeries == self.meanField.timeSeries)\n",
    "\n",
    "#         fieldUnitVector = self.meanField.copy()\n",
    "#         fieldUnitVector.makeUnitVector()\n",
    "#         earthUnitVector = -(self.position.copy())\n",
    "#         earthUnitVector.makeUnitVector()\n",
    "\n",
    "#         polUnitVector = fieldUnitVector.cross(earthUnitVector)\n",
    "#         polUnitVector.makeUnitVector()\n",
    "#         torUnitVector = fieldUnitVector.cross(polUnitVector)\n",
    "#         torUnitVector.makeUnitVector()\n",
    "\n",
    "#         self.magneticFieldMeanFieldCoordinates = self.magneticField.coordinateTransform(\n",
    "#             fieldUnitVector,\n",
    "#             polUnitVector,\n",
    "#             torUnitVector\n",
    "#         )\n",
    "\n",
    "#     def defaultProcessing(self):\n",
    "#         self.interpolate()\n",
    "#         #self.convertToMeanFieldCoordinates() # <-- creates attr magneticFieldMeanFieldCoordinates\n",
    "#         #self.magneticFieldMeanFieldCoordinates.fillNaN()"
   ]
  },
  {
   "cell_type": "markdown",
   "id": "f8bc8197-65e7-448b-87a8-0198eb6f8b6c",
   "metadata": {},
   "source": [
    "Applying that new class to sonify data from PG1:"
   ]
  },
  {
   "cell_type": "code",
   "execution_count": null,
   "id": "68cc1a05-3564-4689-8ac4-79e243d5fbc9",
   "metadata": {},
   "outputs": [],
   "source": [
    "# magname = 'pg1'\n",
    "# # start = datetime(2016, 6, 28, 5, 18, 0)\n",
    "# # end = datetime(2016, 6, 29, 5, 58, 0)\n",
    "# start = datetime(2023, 4, 23, 0, 0, 0)\n",
    "# end = datetime(2023, 4, 24, 0, 0, 0)\n",
    "# g = GroundData()\n",
    "# g.importCDAS(start, end, magname)\n",
    "# g.magneticField\n",
    "# g.defaultProcessing()\n",
    "# g_pol1 = g.magneticField.extractKey(2)\n",
    "# # g_pol1.phaseVocoderStretch(320)\n",
    "# g_pol1.waveletStretch(16)\n",
    "# # g_pol.normalise()\n",
    "# filename = magname+\"_\" + start.strftime(\"%Y-%m-%d-%H-%M-%S\") + end.strftime(\"%Y-%m-%d-%H-%M-%S\") + \".wav\"\n",
    "# g_pol1.genMonoAudio(filename)\n",
    "# g_pol1.data\n",
    "\n",
    "# IPython.display.Audio(filename)"
   ]
  },
  {
   "cell_type": "code",
   "execution_count": null,
   "id": "5f86b017-c199-4b72-85f4-5d81c6f430f2",
   "metadata": {},
   "outputs": [],
   "source": [
    "# maglist_a = ['upn', 'umq', 'gdh', 'atu', 'skt', 'ghb']\n",
    "# maglist_b = ['pg0', 'pg1', 'pg2', 'pg3', 'pg4', 'pg5']\n",
    "# maglist = maglist_a+maglist_b\n",
    "\n",
    "\n",
    "# for idx in range(len(maglist)):\n",
    "#     try:\n",
    "#         magname = maglist[idx]\n",
    "#         # start = datetime(2016, 6, 28, 5, 18, 0)\n",
    "#         # end = datetime(2016, 6, 29, 5, 58, 0)\n",
    "#         start = datetime(2023, 4, 18, 0, 0, 0)\n",
    "#         end = datetime(2023, 4, 26, 0, 0, 0)\n",
    "#         g = GroundData()\n",
    "#         g.importCDAS(start, end, magname)\n",
    "#         g.magneticField\n",
    "#         g.defaultProcessing()\n",
    "#         g_pol2 = g.magneticField.extractKey(2)\n",
    "#         # g_pol2.phaseVocoderStretch(16)\n",
    "#         g_pol2.waveletStretch(32)\n",
    "#         filename = 'output/'+ magname+\"_\" + start.strftime(\"%Y-%m-%d-%H-%M-%S\") + end.strftime(\"%Y-%m-%d-%H-%M-%S\") + \".wav\"\n",
    "#         # g_pol.normalise()\n",
    "#         g_pol2.genMonoAudio(filename)\n",
    "#         # g_pol2.data\n",
    "#         print('Saving ' + filename)\n",
    "#         # IPython.display.Audio(filename)\n",
    "#     except Exception as e:\n",
    "#         print(e)\n",
    "#         continue"
   ]
  }
 ],
 "metadata": {
  "kernelspec": {
   "display_name": "Python 3 (ipykernel)",
   "language": "python",
   "name": "python3"
  },
  "language_info": {
   "codemirror_mode": {
    "name": "ipython",
    "version": 3
   },
   "file_extension": ".py",
   "mimetype": "text/x-python",
   "name": "python",
   "nbconvert_exporter": "python",
   "pygments_lexer": "ipython3",
   "version": "3.9.1"
  },
  "widgets": {
   "application/vnd.jupyter.widget-state+json": {
    "state": {},
    "version_major": 2,
    "version_minor": 0
   }
  }
 },
 "nbformat": 4,
 "nbformat_minor": 5
}
